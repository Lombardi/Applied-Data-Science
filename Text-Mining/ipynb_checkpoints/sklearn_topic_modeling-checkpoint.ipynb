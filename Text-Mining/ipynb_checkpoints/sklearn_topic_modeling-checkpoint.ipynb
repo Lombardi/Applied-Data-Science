{
 "cells": [
  {
   "cell_type": "markdown",
   "metadata": {},
   "source": [
    "# Read in Syracuse University Commencement speeches from document repot"
   ]
  },
  {
   "cell_type": "code",
   "execution_count": 41,
   "metadata": {
    "collapsed": false
   },
   "outputs": [],
   "source": [
    "import glob #module used to easily read in documents\n",
    "\n",
    "path = '/Users/Ryan/Dropbox/college/7_Semester_V/IST_736/final_project/documents/*.txt'   \n",
    "\n",
    "documents = []\n",
    "\n",
    "for f in glob.glob(path):\n",
    "    r = open(f, \"r\", encoding = \"UTF-8\") \n",
    "    text = r.read() \n",
    "    documents.append(text)"
   ]
  },
  {
   "cell_type": "markdown",
   "metadata": {},
   "source": [
    "# Vectorize the documents"
   ]
  },
  {
   "cell_type": "code",
   "execution_count": 42,
   "metadata": {
    "collapsed": false
   },
   "outputs": [],
   "source": [
    "from sklearn.feature_extraction.text import TfidfVectorizer, CountVectorizer\n",
    "from sklearn.feature_extraction import text \n",
    "\n",
    "my_additional_stop_words = frozenset(['ve',]) #add in additional stop words to the vanilla dictionary\n",
    "\n",
    "no_features = 100\n",
    "\n",
    "# NMF is able to use tf-idf\n",
    "#tfidf_vectorizer = TfidfVectorizer(max_df=0.95, min_df=2, max_features=no_features, stop_words='english')\n",
    "#tfidf = tfidf_vectorizer.fit_transform(documents)\n",
    "#tfidf_feature_names = tfidf_vectorizer.get_feature_names()\n",
    "\n",
    "# LDA can only use raw term counts for LDA because it is a probabilistic graphical model\n",
    "tf_vectorizer = CountVectorizer(max_df=0.90, min_df=2, max_features=no_features, stop_words=text.ENGLISH_STOP_WORDS.union(my_additional_stop_words), ngram_range=(1,2))\n",
    "tf = tf_vectorizer.fit_transform(documents)\n",
    "tf_feature_names = tf_vectorizer.get_feature_names()"
   ]
  },
  {
   "cell_type": "markdown",
   "metadata": {},
   "source": [
    "# Then call the LDA algorithm to fit a topic model, and transform all documents to their topic distrinbutions"
   ]
  },
  {
   "cell_type": "code",
   "execution_count": 43,
   "metadata": {
    "collapsed": false
   },
   "outputs": [],
   "source": [
    "from sklearn.decomposition import NMF, LatentDirichletAllocation\n",
    "\n",
    "no_topics = 10\n",
    "\n",
    "# Run NMF\n",
    "#nmf = NMF(n_components=no_topics, random_state=1, alpha=.1, l1_ratio=.5, init='nndsvd').fit(tfidf)\n",
    "\n",
    "# Run LDA\n",
    "lda = LatentDirichletAllocation(n_components=no_topics, max_iter=5, learning_method='online', learning_offset=50.,random_state=0)\n",
    "lda_z = lda.fit_transform(tf)"
   ]
  },
  {
   "cell_type": "code",
   "execution_count": 44,
   "metadata": {
    "collapsed": true
   },
   "outputs": [],
   "source": [
    "def display_topics(model, feature_names, no_top_words):\n",
    "    for topic_idx, topic in enumerate(model.components_):\n",
    "        print(\"Topic %d:\" % (topic_idx))\n",
    "        print(\" \".join([feature_names[i]\n",
    "                        for i in topic.argsort()[:-no_top_words - 1:-1]]))\n",
    "\n",
    "no_top_words = 20"
   ]
  },
  {
   "cell_type": "code",
   "execution_count": 45,
   "metadata": {
    "collapsed": false
   },
   "outputs": [
    {
     "name": "stdout",
     "output_type": "stream",
     "text": [
      "Topic 0:\n",
      "new class care actually america thought point success maybe million disease come today congratulations year person doing know let single\n",
      "Topic 1:\n",
      "family old ll hope make care scared human fear said history chancellor times job class thought look people life syracuse\n",
      "Topic 2:\n",
      "heart school syracuse think university help need know said good public people hope hard mother live life happy point don\n",
      "Topic 3:\n",
      "thank make city today actually called single university scared care mother maybe global went kind year education new let good\n",
      "Topic 4:\n",
      "new years billion life change future million people care year know health disease human today going important hope make things\n",
      "Topic 5:\n",
      "syracuse work great university long did education life disease years new today hard york went happy good school new york lives\n",
      "Topic 6:\n",
      "today life know good think years going new class ll things don read friends family year syracuse parents lives wish\n",
      "Topic 7:\n",
      "mother heart family live congratulations new great years asked people come point good today love country know things global thank\n",
      "Topic 8:\n",
      "people know today make said years good fear don life great syracuse work america line came thank hope come bad\n",
      "Topic 9:\n",
      "think public good little university maybe going help hope life education years school congratulations happy let syracuse know point people\n"
     ]
    }
   ],
   "source": [
    "display_topics(lda, tf_feature_names, no_top_words)"
   ]
  },
  {
   "cell_type": "code",
   "execution_count": 46,
   "metadata": {
    "collapsed": false
   },
   "outputs": [
    {
     "name": "stdout",
     "output_type": "stream",
     "text": [
      "(9, 10)\n",
      "[ 0.00212787  0.00212789  0.00212791  0.00212786  0.00212785  0.00212793\n",
      "  0.002128    0.98084872  0.00212801  0.00212795]\n"
     ]
    }
   ],
   "source": [
    "print(lda_z.shape)\n",
    "print(lda_z[0])"
   ]
  },
  {
   "cell_type": "code",
   "execution_count": null,
   "metadata": {
    "collapsed": true
   },
   "outputs": [],
   "source": []
  }
 ],
 "metadata": {
  "anaconda-cloud": {},
  "kernelspec": {
   "display_name": "Python [default]",
   "language": "python",
   "name": "python3"
  },
  "language_info": {
   "codemirror_mode": {
    "name": "ipython",
    "version": 3
   },
   "file_extension": ".py",
   "mimetype": "text/x-python",
   "name": "python",
   "nbconvert_exporter": "python",
   "pygments_lexer": "ipython3",
   "version": "3.5.2"
  }
 },
 "nbformat": 4,
 "nbformat_minor": 2
}
